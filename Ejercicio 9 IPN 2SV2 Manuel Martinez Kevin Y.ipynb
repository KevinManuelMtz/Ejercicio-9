{
  "nbformat": 4,
  "nbformat_minor": 0,
  "metadata": {
    "colab": {
      "name": "Ejercicio 6.ipynb",
      "provenance": []
    },
    "kernelspec": {
      "name": "python3",
      "display_name": "Python 3"
    }
  },
  "cells": [
    {
      "cell_type": "code",
      "metadata": {
        "id": "fmtRMY8W3reY",
        "outputId": "fe6b4239-a516-4474-8aca-e0d5f99c1260",
        "colab": {
          "base_uri": "https://localhost:8080/"
        }
      },
      "source": [
        "def fact(num):\n",
        "\tres = num\n",
        "\tfor i in range(num, 1,-1):\n",
        "\t\tres = res * (i-1)\n",
        "\treturn res\n",
        "\n",
        "\n",
        "num = int(input(\"Introduce un numero POSITIVO para obtener su factorial : \"))\n",
        "res = fact(num) \n",
        "print(\"El factorial de\",num,\"es:\",res,)"
      ],
      "execution_count": 31,
      "outputs": [
        {
          "output_type": "stream",
          "text": [
            "Introduce un numero POSITIVO para obtener su factorial : 3\n",
            "El factorial de 3 es: 6\n"
          ],
          "name": "stdout"
        }
      ]
    }
  ]
}